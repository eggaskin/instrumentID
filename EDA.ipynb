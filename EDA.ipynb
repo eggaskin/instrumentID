{
 "cells": [
  {
   "cell_type": "code",
   "execution_count": 1,
   "id": "f2a9693d",
   "metadata": {},
   "outputs": [],
   "source": [
    "import numpy as np\n",
    "import pandas as pd\n",
    "import matplotlib.pyplot as plt\n",
    "from collections import Counter"
   ]
  },
  {
   "cell_type": "code",
   "execution_count": 24,
   "id": "cfa076df",
   "metadata": {},
   "outputs": [
    {
     "data": {
      "text/plain": [
       "Counter({'violin': 1699,\n",
       "         'piano': 1359,\n",
       "         'flute': 1289,\n",
       "         'clarinet': 1066,\n",
       "         'trumpet': 550,\n",
       "         'cello': 527,\n",
       "         'voice': 497,\n",
       "         'guitar_electric': 492,\n",
       "         'sax_soprano': 235,\n",
       "         'sax_tenor': 218,\n",
       "         'sax_alto': 157,\n",
       "         'piccolo': 154,\n",
       "         'guitar_acoustic': 145,\n",
       "         'organ': 133,\n",
       "         'saxophone': 117,\n",
       "         'sax_baritone': 92,\n",
       "         'oboe': 84,\n",
       "         'bass': 33})"
      ]
     },
     "execution_count": 24,
     "metadata": {},
     "output_type": "execute_result"
    }
   ],
   "source": [
    "# read in data\n",
    "pred_df = pd.read_csv('triple_predictions.csv')\n",
    "\n",
    "# Get a counter for each instrument. Ex: How many \"violin\" values are there?\n",
    "pred_df_actual_count = Counter(pred_df['Actual'])\n",
    "pred_df_actual_count"
   ]
  },
  {
   "cell_type": "code",
   "execution_count": 25,
   "id": "200e767b",
   "metadata": {},
   "outputs": [
    {
     "name": "stdout",
     "output_type": "stream",
     "text": [
      "Number of incorrect predictions: 1804\n",
      "Accuracy: 0.7960890697411552\n"
     ]
    }
   ],
   "source": [
    "# list of lists with wrong prediction and truth\n",
    "incorrect = []\n",
    "\n",
    "# list of lists with wrong prediction and name of file, which has the name of the played instrument\n",
    "actual_filename = []\n",
    "for pred, actual, file_name in zip(pred_df['0'], pred_df['Actual'], pred_df['Filename']):\n",
    "    if pred != actual:\n",
    "        incorrect.append([pred, actual])\n",
    "        actual_filename.append([pred, file_name])\n",
    "\n",
    "print('Number of incorrect predictions:', len(incorrect))\n",
    "print('Accuracy:', 1 - len(incorrect) / len(pred_df))"
   ]
  },
  {
   "cell_type": "code",
   "execution_count": 4,
   "id": "58a4af32",
   "metadata": {},
   "outputs": [
    {
     "data": {
      "text/plain": [
       "Counter({'flute': 215,\n",
       "         'clarinet': 213,\n",
       "         'violin': 188,\n",
       "         'trumpet': 148,\n",
       "         'guitar_acoustic': 130,\n",
       "         'voice': 128,\n",
       "         'piano': 125,\n",
       "         'guitar_electric': 120,\n",
       "         'saxophone': 104,\n",
       "         'sax_soprano': 100,\n",
       "         'sax_tenor': 70,\n",
       "         'organ': 70,\n",
       "         'cello': 60,\n",
       "         'sax_alto': 48,\n",
       "         'sax_baritone': 27,\n",
       "         'oboe': 27,\n",
       "         'piccolo': 23,\n",
       "         'bass': 8})"
      ]
     },
     "execution_count": 4,
     "metadata": {},
     "output_type": "execute_result"
    }
   ],
   "source": [
    "# get the number of each instrument that was classified incorrectly\n",
    "incorrect_actual = [actual[1] for actual in incorrect]\n",
    "incorrect_actual_count = Counter(incorrect_actual)\n",
    "incorrect_actual_count"
   ]
  },
  {
   "cell_type": "code",
   "execution_count": 27,
   "id": "0cd6e9ee",
   "metadata": {},
   "outputs": [
    {
     "data": {
      "text/plain": [
       "{'piccolo': 23,\n",
       " 'violin': 188,\n",
       " 'guitar_acoustic': 130,\n",
       " 'voice': 128,\n",
       " 'piano': 125,\n",
       " 'bass': 8,\n",
       " 'flute': 215,\n",
       " 'trumpet': 148,\n",
       " 'sax_tenor': 70,\n",
       " 'guitar_electric': 120,\n",
       " 'clarinet': 213,\n",
       " 'saxophone': 104,\n",
       " 'organ': 70,\n",
       " 'cello': 60,\n",
       " 'sax_alto': 48,\n",
       " 'sax_soprano': 100,\n",
       " 'sax_baritone': 27,\n",
       " 'oboe': 27}"
      ]
     },
     "execution_count": 27,
     "metadata": {},
     "output_type": "execute_result"
    }
   ],
   "source": [
    "## create dictionaries that have the same key order\n",
    "# order the incorrect_actual_count Counter object\n",
    "rearranged_incorrect_actual_count = {key: incorrect_actual_count[key] for key in list(pred_df_actual_count.keys())}\n",
    "\n",
    "# order the pred_df_actual_count Counter object\n",
    "rearranged_pred_df_actual_count = {key: pred_df_actual_count[key] for key in list(pred_df_actual_count.keys())}\n",
    "rearranged_incorrect_actual_count"
   ]
  },
  {
   "cell_type": "code",
   "execution_count": 28,
   "id": "6419efc3",
   "metadata": {},
   "outputs": [
    {
     "data": {
      "text/plain": [
       "{'piccolo': 154,\n",
       " 'violin': 1699,\n",
       " 'guitar_acoustic': 145,\n",
       " 'voice': 497,\n",
       " 'piano': 1359,\n",
       " 'bass': 33,\n",
       " 'flute': 1289,\n",
       " 'trumpet': 550,\n",
       " 'sax_tenor': 218,\n",
       " 'guitar_electric': 492,\n",
       " 'clarinet': 1066,\n",
       " 'saxophone': 117,\n",
       " 'organ': 133,\n",
       " 'cello': 527,\n",
       " 'sax_alto': 157,\n",
       " 'sax_soprano': 235,\n",
       " 'sax_baritone': 92,\n",
       " 'oboe': 84}"
      ]
     },
     "execution_count": 28,
     "metadata": {},
     "output_type": "execute_result"
    }
   ],
   "source": [
    "rearranged_pred_df_actual_count"
   ]
  },
  {
   "cell_type": "code",
   "execution_count": 21,
   "id": "4e66c878",
   "metadata": {},
   "outputs": [
    {
     "data": {
      "text/html": [
       "<div>\n",
       "<style scoped>\n",
       "    .dataframe tbody tr th:only-of-type {\n",
       "        vertical-align: middle;\n",
       "    }\n",
       "\n",
       "    .dataframe tbody tr th {\n",
       "        vertical-align: top;\n",
       "    }\n",
       "\n",
       "    .dataframe thead th {\n",
       "        text-align: right;\n",
       "    }\n",
       "</style>\n",
       "<table border=\"1\" class=\"dataframe\">\n",
       "  <thead>\n",
       "    <tr style=\"text-align: right;\">\n",
       "      <th></th>\n",
       "      <th>Instrument</th>\n",
       "      <th>Error Rate</th>\n",
       "    </tr>\n",
       "  </thead>\n",
       "  <tbody>\n",
       "    <tr>\n",
       "      <th>2</th>\n",
       "      <td>guitar_acoustic</td>\n",
       "      <td>0.896552</td>\n",
       "    </tr>\n",
       "    <tr>\n",
       "      <th>11</th>\n",
       "      <td>saxophone</td>\n",
       "      <td>0.888889</td>\n",
       "    </tr>\n",
       "    <tr>\n",
       "      <th>12</th>\n",
       "      <td>organ</td>\n",
       "      <td>0.526316</td>\n",
       "    </tr>\n",
       "    <tr>\n",
       "      <th>15</th>\n",
       "      <td>sax_soprano</td>\n",
       "      <td>0.425532</td>\n",
       "    </tr>\n",
       "    <tr>\n",
       "      <th>17</th>\n",
       "      <td>oboe</td>\n",
       "      <td>0.321429</td>\n",
       "    </tr>\n",
       "    <tr>\n",
       "      <th>8</th>\n",
       "      <td>sax_tenor</td>\n",
       "      <td>0.321101</td>\n",
       "    </tr>\n",
       "    <tr>\n",
       "      <th>14</th>\n",
       "      <td>sax_alto</td>\n",
       "      <td>0.305732</td>\n",
       "    </tr>\n",
       "    <tr>\n",
       "      <th>16</th>\n",
       "      <td>sax_baritone</td>\n",
       "      <td>0.293478</td>\n",
       "    </tr>\n",
       "    <tr>\n",
       "      <th>7</th>\n",
       "      <td>trumpet</td>\n",
       "      <td>0.269091</td>\n",
       "    </tr>\n",
       "    <tr>\n",
       "      <th>3</th>\n",
       "      <td>voice</td>\n",
       "      <td>0.257545</td>\n",
       "    </tr>\n",
       "    <tr>\n",
       "      <th>9</th>\n",
       "      <td>guitar_electric</td>\n",
       "      <td>0.243902</td>\n",
       "    </tr>\n",
       "    <tr>\n",
       "      <th>5</th>\n",
       "      <td>bass</td>\n",
       "      <td>0.242424</td>\n",
       "    </tr>\n",
       "    <tr>\n",
       "      <th>10</th>\n",
       "      <td>clarinet</td>\n",
       "      <td>0.199812</td>\n",
       "    </tr>\n",
       "    <tr>\n",
       "      <th>6</th>\n",
       "      <td>flute</td>\n",
       "      <td>0.166796</td>\n",
       "    </tr>\n",
       "    <tr>\n",
       "      <th>0</th>\n",
       "      <td>piccolo</td>\n",
       "      <td>0.149351</td>\n",
       "    </tr>\n",
       "    <tr>\n",
       "      <th>13</th>\n",
       "      <td>cello</td>\n",
       "      <td>0.113852</td>\n",
       "    </tr>\n",
       "    <tr>\n",
       "      <th>1</th>\n",
       "      <td>violin</td>\n",
       "      <td>0.110653</td>\n",
       "    </tr>\n",
       "    <tr>\n",
       "      <th>4</th>\n",
       "      <td>piano</td>\n",
       "      <td>0.091979</td>\n",
       "    </tr>\n",
       "  </tbody>\n",
       "</table>\n",
       "</div>"
      ],
      "text/plain": [
       "         Instrument  Error Rate\n",
       "2   guitar_acoustic    0.896552\n",
       "11        saxophone    0.888889\n",
       "12            organ    0.526316\n",
       "15      sax_soprano    0.425532\n",
       "17             oboe    0.321429\n",
       "8         sax_tenor    0.321101\n",
       "14         sax_alto    0.305732\n",
       "16     sax_baritone    0.293478\n",
       "7           trumpet    0.269091\n",
       "3             voice    0.257545\n",
       "9   guitar_electric    0.243902\n",
       "5              bass    0.242424\n",
       "10         clarinet    0.199812\n",
       "6             flute    0.166796\n",
       "0           piccolo    0.149351\n",
       "13            cello    0.113852\n",
       "1            violin    0.110653\n",
       "4             piano    0.091979"
      ]
     },
     "execution_count": 21,
     "metadata": {},
     "output_type": "execute_result"
    }
   ],
   "source": [
    "# dictionary of error rate for each instrument\n",
    "errors_dict = {}\n",
    "for instrument, count in rearranged_pred_df_actual_count.items():\n",
    "    errors_dict[instrument] = rearranged_incorrect_actual_count[instrument] / count\n",
    "\n",
    "# data frame in descending order by error rate\n",
    "errors_df = pd.DataFrame(errors_dict.items(), columns=['Instrument', 'Error Rate']).sort_values(by='Error Rate', ascending=False)\n",
    "errors_df"
   ]
  },
  {
   "cell_type": "code",
   "execution_count": null,
   "id": "b826571f",
   "metadata": {},
   "outputs": [],
   "source": []
  }
 ],
 "metadata": {
  "kernelspec": {
   "display_name": "Python 3 (ipykernel)",
   "language": "python",
   "name": "python3"
  },
  "language_info": {
   "codemirror_mode": {
    "name": "ipython",
    "version": 3
   },
   "file_extension": ".py",
   "mimetype": "text/x-python",
   "name": "python",
   "nbconvert_exporter": "python",
   "pygments_lexer": "ipython3",
   "version": "3.11.5"
  }
 },
 "nbformat": 4,
 "nbformat_minor": 5
}
