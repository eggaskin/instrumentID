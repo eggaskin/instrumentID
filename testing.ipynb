{
 "cells": [
  {
   "cell_type": "code",
   "execution_count": null,
   "metadata": {},
   "outputs": [],
   "source": []
  },
  {
   "cell_type": "markdown",
   "metadata": {},
   "source": [
    "This is to test getting audio data and processing it."
   ]
  },
  {
   "cell_type": "code",
   "execution_count": 2,
   "outputs": [],
   "source": [
    "from scipy.fft import fft"
   ],
   "metadata": {
    "collapsed": false,
    "ExecuteTime": {
     "end_time": "2023-10-26T22:43:33.733194Z",
     "start_time": "2023-10-26T22:43:24.778840Z"
    }
   }
  },
  {
   "cell_type": "code",
   "execution_count": 3,
   "outputs": [
    {
     "data": {
      "text/plain": "array([ 4.10000000e+01-0.j        , -1.02324637e+00-0.15422957j,\n       -1.10515194e+00-0.34089423j, -1.30193774e+00-0.62698017j,\n       -1.86858433e+00-1.27397922j, -7.19074500e+00-6.67203632j,\n        1.74697960e+00+2.19064313j,  5.00000000e-01+0.8660254j ,\n        1.82079972e-01+0.4639322j ,  5.49581321e-02+0.24078731j,\n        5.64766666e-03+0.07536287j,  5.64766666e-03-0.07536287j,\n        5.49581321e-02-0.24078731j,  1.82079972e-01-0.4639322j ,\n        5.00000000e-01-0.8660254j ,  1.74697960e+00-2.19064313j,\n       -7.19074500e+00+6.67203632j, -1.86858433e+00+1.27397922j,\n       -1.30193774e+00+0.62698017j, -1.10515194e+00+0.34089423j,\n       -1.02324637e+00+0.15422957j])"
     },
     "execution_count": 3,
     "metadata": {},
     "output_type": "execute_result"
    }
   ],
   "source": [
    "fft([1,2,3,2,1,2,3,2,1,2,3,2,1,2,3,2,1,2,3,2,1])\n"
   ],
   "metadata": {
    "collapsed": false,
    "ExecuteTime": {
     "end_time": "2023-10-26T22:43:33.749831Z",
     "start_time": "2023-10-26T22:43:33.221070Z"
    }
   }
  },
  {
   "cell_type": "code",
   "execution_count": null,
   "outputs": [],
   "source": [],
   "metadata": {
    "collapsed": false
   }
  }
 ],
 "metadata": {
  "language_info": {
   "name": "python"
  },
  "orig_nbformat": 4,
  "kernelspec": {
   "name": "python3",
   "language": "python",
   "display_name": "Python 3 (ipykernel)"
  }
 },
 "nbformat": 4,
 "nbformat_minor": 2
}
